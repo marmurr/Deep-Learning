{
  "nbformat": 4,
  "nbformat_minor": 0,
  "metadata": {
    "colab": {
      "provenance": [],
      "authorship_tag": "ABX9TyM6Bz7vLelYM8ai7ruCOcj5",
      "include_colab_link": true
    },
    "kernelspec": {
      "name": "python3",
      "display_name": "Python 3"
    },
    "language_info": {
      "name": "python"
    }
  },
  "cells": [
    {
      "cell_type": "markdown",
      "metadata": {
        "id": "view-in-github",
        "colab_type": "text"
      },
      "source": [
        "<a href=\"https://colab.research.google.com/github/marmurr/Deep-Learning/blob/main/Deep_Learning_Lab2.ipynb\" target=\"_parent\"><img src=\"https://colab.research.google.com/assets/colab-badge.svg\" alt=\"Open In Colab\"/></a>"
      ]
    },
    {
      "cell_type": "markdown",
      "source": [
        "Task:\n",
        "* Implement automatic backpropagation (hint: topological sort, dfs)\n",
        "\n",
        "* Implement those activations (2 of them) that you chose in lab 1 (RELu, Softplus)\n",
        "\n",
        "* Implement gradient descent as a separate function"
      ],
      "metadata": {
        "id": "kZYgC9oXGbKN"
      }
    },
    {
      "cell_type": "markdown",
      "source": [
        "# Imports"
      ],
      "metadata": {
        "id": "ZT9ZZhCzGmSd"
      }
    },
    {
      "cell_type": "code",
      "execution_count": 131,
      "metadata": {
        "id": "0txAf1EmFO1s"
      },
      "outputs": [],
      "source": [
        "import numpy as np\n",
        "import math\n",
        "import matplotlib.pyplot as plt"
      ]
    },
    {
      "cell_type": "markdown",
      "source": [],
      "metadata": {
        "id": "hIYwX74mIr9M"
      }
    },
    {
      "cell_type": "code",
      "source": [
        "import math\n",
        "import numpy as np\n",
        "\n",
        "class Parameter:\n",
        "    def __init__(self, value: float, name: str, _children=()) -> None:\n",
        "        self._value = value\n",
        "        self._name = name\n",
        "\n",
        "        self._grad = 0.0\n",
        "        self._backward = lambda: None\n",
        "        self._prev = set(_children)\n",
        "\n",
        "    def __repr__(self) -> str:  # Representation (parameter - gradient)\n",
        "        return f\"Parameter {self._name} = {self._value}; dL/d[{self._name}] = {self._grad}\"\n",
        "\n",
        "    def __mul__(self, other):  # Multiplication of parameters\n",
        "      other = other if isinstance(other, Parameter) else Parameter(other, \"p\")\n",
        "      result = Parameter(\n",
        "          self._value * other._value,\n",
        "          f'{self._name} * {other._name}',\n",
        "          _children=(self, other)\n",
        "      )\n",
        "\n",
        "      def _backward():\n",
        "          self._grad += other._value * result._grad  # dL / dself\n",
        "          other._grad += self._value * result._grad  # dL / dother\n",
        "\n",
        "      result._backward = _backward\n",
        "\n",
        "      return result\n",
        "\n",
        "    def __pow__(self, other):  # Power of parameter\n",
        "        out = Parameter(self._value ** other, f\"{self._name} ** {other}\")\n",
        "\n",
        "        def _backward():\n",
        "            self._grad += other * (self._value ** (other - 1)) * out._grad\n",
        "\n",
        "        out._backward = _backward\n",
        "\n",
        "        return out\n",
        "\n",
        "    def __add__(self, other):  # Addition of parameters\n",
        "        other = other if isinstance(other, Parameter) else Parameter(other, \"p\")\n",
        "        result = Parameter(\n",
        "            self._value + other._value,\n",
        "            f'[{self._name} + {other._name}]',\n",
        "            _children=(self, other)\n",
        "        )\n",
        "\n",
        "        def _backward():\n",
        "            self._grad += 1.0 * result._grad  # dL / dself\n",
        "            other._grad += 1.0 * result._grad  # dL / dother\n",
        "\n",
        "        result._backward = _backward\n",
        "\n",
        "        return result\n",
        "\n",
        "\n",
        "    def sigmoid(self):  # Sigmoid activation function\n",
        "        val = 1.0 / (1.0 + math.exp(-self._value))\n",
        "\n",
        "        result = Parameter(\n",
        "            val,\n",
        "            f\"σ({self._name})\"\n",
        "        )\n",
        "\n",
        "        def _backward():\n",
        "            self._grad += result._grad * val * (1 - val)\n",
        "\n",
        "        result._backward = _backward\n",
        "\n",
        "        return result\n",
        "\n",
        "    def __neg__(self):  # Negation\n",
        "        return self * (-1)\n",
        "\n",
        "    def __sub__(self, other):  # Subtraction\n",
        "        return self + (-other)\n",
        "\n",
        "    def backward(self, grad=1.0):\n",
        "        self._grad = grad\n",
        "        topo_sort = []\n",
        "        visited_nodes = set()\n",
        "\n",
        "        def sort_topo(node):\n",
        "            if node not in visited_nodes:\n",
        "                visited_nodes.add(node)\n",
        "                for child in node._prev:\n",
        "                    sort_topo(child)\n",
        "                topo_sort.append(node)\n",
        "        sort_topo(self)\n",
        "\n",
        "        for node in reversed(topo_sort):\n",
        "            node._backward()\n",
        "\n",
        "    def softplus(self):  # Softplus activation function\n",
        "        val = np.log(1 + np.exp(self._value))\n",
        "        result = Parameter(\n",
        "            val,\n",
        "            f\"softplus({self._name})\"\n",
        "        )\n",
        "\n",
        "        def _backward():\n",
        "            self._grad += result._grad * (1.0 / (1.0 + np.exp(-self._value)))\n",
        "\n",
        "        result._backward = _backward\n",
        "\n",
        "        return result\n",
        "\n",
        "    def ReLU(self):  # ReLU activation function\n",
        "        val = np.maximum(0, self._value)\n",
        "        result = Parameter(\n",
        "            val,\n",
        "            f\"ReLU({self._name})\"\n",
        "        )\n",
        "\n",
        "        def _backward():\n",
        "            self._grad += result._grad * np.where(self._value > 0, 1, 0)\n",
        "\n",
        "        result._backward = _backward\n",
        "\n",
        "        return result\n",
        "\n",
        "def gd(learning_rate: float, *parameters: Parameter) -> None:\n",
        "    for parameter in parameters:\n",
        "        parameter._value -= learning_rate * parameter._grad\n",
        "        parameter._grad = 0"
      ],
      "metadata": {
        "id": "sIn6rPsvLZNc"
      },
      "execution_count": 143,
      "outputs": []
    },
    {
      "cell_type": "markdown",
      "source": [
        "# Backward method test"
      ],
      "metadata": {
        "id": "QC1IW48pIW8E"
      }
    },
    {
      "cell_type": "code",
      "source": [
        "a = Parameter(3.0, 'a')\n",
        "b = Parameter(2.0, 'b')\n",
        "c = Parameter(5.0, 'c')\n",
        "m = Parameter(5.0, 'd')\n",
        "u = a * b\n",
        "v = u + c\n",
        "L = v * m\n",
        "L.backward()\n",
        "print(L)\n",
        "print(v)\n",
        "print(u)\n",
        "print(m)\n",
        "print(c)\n",
        "print(b)\n",
        "print(a)"
      ],
      "metadata": {
        "colab": {
          "base_uri": "https://localhost:8080/"
        },
        "id": "k7ePsa3NIZZ8",
        "outputId": "754ba612-b228-4b92-dba6-b455655de519"
      },
      "execution_count": 133,
      "outputs": [
        {
          "output_type": "stream",
          "name": "stdout",
          "text": [
            "Parameter [a * b + c] * d = 55.0; dL/d[[a * b + c] * d] = 0\n",
            "Parameter [a * b + c] = 11.0; dL/d[[a * b + c]] = 0\n",
            "Parameter a * b = 6.0; dL/d[a * b] = 0\n",
            "Parameter d = 5.0; dL/d[d] = 0\n",
            "Parameter c = 5.0; dL/d[c] = 0\n",
            "Parameter b = 2.0; dL/d[b] = 0\n",
            "Parameter a = 3.0; dL/d[a] = 0\n"
          ]
        }
      ]
    },
    {
      "cell_type": "code",
      "source": [
        "x1 = Parameter(3.0, 'x1')\n",
        "x2 = Parameter(4.0, 'x2')\n",
        "\n",
        "w1 = Parameter(1.0, 'w1')\n",
        "w2 = Parameter(2.0, 'w2')\n",
        "\n",
        "x1w1 = x1 * w1\n",
        "x2w2 = x2 * w2\n",
        "xw = x1w1 + x2w2\n",
        "out = xw.ReLU()\n",
        "out.backward()\n",
        "print(out._grad)\n",
        "print(xw._grad)\n",
        "print(x2w2._grad)\n",
        "print(x1w1._grad)\n",
        "print(x1._grad)\n",
        "print(w1._grad)\n",
        "print(x2._grad)\n",
        "print(w2._grad)"
      ],
      "metadata": {
        "colab": {
          "base_uri": "https://localhost:8080/"
        },
        "id": "IlUWKbWUIc8L",
        "outputId": "eb05e852-8cbf-436d-c6d4-5869adf05c2e"
      },
      "execution_count": 134,
      "outputs": [
        {
          "output_type": "stream",
          "name": "stdout",
          "text": [
            "0\n",
            "1.0\n",
            "0.0\n",
            "0.0\n",
            "0.0\n",
            "0.0\n",
            "0.0\n",
            "0.0\n"
          ]
        }
      ]
    },
    {
      "cell_type": "code",
      "source": [
        "x1 = Parameter(3.0, 'x1')\n",
        "x2 = Parameter(4.0, 'x2')\n",
        "\n",
        "w1 = Parameter(1.0, 'w1')\n",
        "w2 = Parameter(2.0, 'w2')\n",
        "\n",
        "x1w1 = x1 * w1\n",
        "x2w2 = x2 * w2\n",
        "xw = x1w1 + x2w2\n",
        "out = xw.softplus()\n",
        "out.backward()\n",
        "print(out._grad)\n",
        "print(xw._grad)\n",
        "print(x2w2._grad)\n",
        "print(x1w1._grad)\n",
        "print(x1._grad)\n",
        "print(w1._grad)\n",
        "print(x2._grad)\n",
        "print(w2._grad)"
      ],
      "metadata": {
        "colab": {
          "base_uri": "https://localhost:8080/"
        },
        "id": "aZj-J7e5RwrT",
        "outputId": "2cbe04fa-f79e-4f75-b5f5-4b4d74de1955"
      },
      "execution_count": 135,
      "outputs": [
        {
          "output_type": "stream",
          "name": "stdout",
          "text": [
            "0\n",
            "0.999983298578152\n",
            "0.0\n",
            "0.0\n",
            "0.0\n",
            "0.0\n",
            "0.0\n",
            "0.0\n"
          ]
        }
      ]
    },
    {
      "cell_type": "markdown",
      "source": [
        "# Gradient descent test"
      ],
      "metadata": {
        "id": "hTfPCBkXIgpb"
      }
    },
    {
      "cell_type": "code",
      "source": [
        "W = Parameter(0.2, 'W')\n",
        "b = Parameter(0.5, 'b')\n",
        "x = Parameter(1, 'x')\n",
        "learning_rate = 0.001\n",
        "n_epochs = 10\n",
        "target = Parameter(0.75, 't')\n",
        "for n in range(n_epochs):\n",
        "    y = (W * x + b).ReLU()\n",
        "    loss = (y - target) ** 2\n",
        "    loss.backward()\n",
        "    gd(learning_rate, W, b)\n",
        "    print(f\"loss after {n} epochs :{loss}\")"
      ],
      "metadata": {
        "colab": {
          "base_uri": "https://localhost:8080/"
        },
        "id": "cI0RYLVyIg6c",
        "outputId": "d231120f-b3f6-4673-dc86-46ea40d872f9"
      },
      "execution_count": 144,
      "outputs": [
        {
          "output_type": "stream",
          "name": "stdout",
          "text": [
            "loss after 0 epochs :Parameter [ReLU([W * x + b]) + t * p] ** 2 = 0.0025000000000000044; dL/d[[ReLU([W * x + b]) + t * p] ** 2] = 1.0\n",
            "loss after 1 epochs :Parameter [ReLU([W * x + b]) + t * p] ** 2 = 0.0025000000000000044; dL/d[[ReLU([W * x + b]) + t * p] ** 2] = 1.0\n",
            "loss after 2 epochs :Parameter [ReLU([W * x + b]) + t * p] ** 2 = 0.0025000000000000044; dL/d[[ReLU([W * x + b]) + t * p] ** 2] = 1.0\n",
            "loss after 3 epochs :Parameter [ReLU([W * x + b]) + t * p] ** 2 = 0.0025000000000000044; dL/d[[ReLU([W * x + b]) + t * p] ** 2] = 1.0\n",
            "loss after 4 epochs :Parameter [ReLU([W * x + b]) + t * p] ** 2 = 0.0025000000000000044; dL/d[[ReLU([W * x + b]) + t * p] ** 2] = 1.0\n",
            "loss after 5 epochs :Parameter [ReLU([W * x + b]) + t * p] ** 2 = 0.0025000000000000044; dL/d[[ReLU([W * x + b]) + t * p] ** 2] = 1.0\n",
            "loss after 6 epochs :Parameter [ReLU([W * x + b]) + t * p] ** 2 = 0.0025000000000000044; dL/d[[ReLU([W * x + b]) + t * p] ** 2] = 1.0\n",
            "loss after 7 epochs :Parameter [ReLU([W * x + b]) + t * p] ** 2 = 0.0025000000000000044; dL/d[[ReLU([W * x + b]) + t * p] ** 2] = 1.0\n",
            "loss after 8 epochs :Parameter [ReLU([W * x + b]) + t * p] ** 2 = 0.0025000000000000044; dL/d[[ReLU([W * x + b]) + t * p] ** 2] = 1.0\n",
            "loss after 9 epochs :Parameter [ReLU([W * x + b]) + t * p] ** 2 = 0.0025000000000000044; dL/d[[ReLU([W * x + b]) + t * p] ** 2] = 1.0\n"
          ]
        }
      ]
    },
    {
      "cell_type": "code",
      "source": [
        "print((W * x + b).ReLU())"
      ],
      "metadata": {
        "colab": {
          "base_uri": "https://localhost:8080/"
        },
        "id": "QjUOa_gGImL7",
        "outputId": "295e49ce-6514-464d-8a3d-0ad7df39ea05"
      },
      "execution_count": 145,
      "outputs": [
        {
          "output_type": "stream",
          "name": "stdout",
          "text": [
            "Parameter ReLU([W * x + b]) = 0.7; dL/d[ReLU([W * x + b])] = 0.0\n"
          ]
        }
      ]
    }
  ]
}