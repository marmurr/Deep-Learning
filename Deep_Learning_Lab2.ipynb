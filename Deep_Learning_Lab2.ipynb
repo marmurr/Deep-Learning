{
  "nbformat": 4,
  "nbformat_minor": 0,
  "metadata": {
    "colab": {
      "provenance": [],
      "authorship_tag": "ABX9TyOykcVSuJ0Wm5bZIwpYnuTx",
      "include_colab_link": true
    },
    "kernelspec": {
      "name": "python3",
      "display_name": "Python 3"
    },
    "language_info": {
      "name": "python"
    }
  },
  "cells": [
    {
      "cell_type": "markdown",
      "metadata": {
        "id": "view-in-github",
        "colab_type": "text"
      },
      "source": [
        "<a href=\"https://colab.research.google.com/github/marmurr/Deep-Learning/blob/main/Deep_Learning_Lab2.ipynb\" target=\"_parent\"><img src=\"https://colab.research.google.com/assets/colab-badge.svg\" alt=\"Open In Colab\"/></a>"
      ]
    },
    {
      "cell_type": "markdown",
      "source": [
        "Task:\n",
        "* Implement automatic backpropagation (hint: topological sort, dfs)\n",
        "\n",
        "* Implement those activations (2 of them) that you chose in lab 1 (RELu, Softplus)\n",
        "\n",
        "* Implement gradient descent as a separate function"
      ],
      "metadata": {
        "id": "kZYgC9oXGbKN"
      }
    },
    {
      "cell_type": "markdown",
      "source": [
        "# Imports"
      ],
      "metadata": {
        "id": "ZT9ZZhCzGmSd"
      }
    },
    {
      "cell_type": "code",
      "execution_count": 19,
      "metadata": {
        "id": "0txAf1EmFO1s"
      },
      "outputs": [],
      "source": [
        "import numpy as np\n",
        "import math\n",
        "import matplotlib.pyplot as plt"
      ]
    },
    {
      "cell_type": "markdown",
      "source": [],
      "metadata": {
        "id": "hIYwX74mIr9M"
      }
    },
    {
      "cell_type": "code",
      "source": [
        "import math\n",
        "import numpy as np\n",
        "\n",
        "class Parameter:\n",
        "    def __init__(self, value: float, name: str, _children=()) -> None:\n",
        "        self._value = value\n",
        "        self._name = name\n",
        "\n",
        "        self._grad = 0.0\n",
        "        self._backward = lambda: None\n",
        "        self._prev = set(_children)\n",
        "\n",
        "    def __repr__(self) -> str:  # Representation (parameter - gradient)\n",
        "        return f\"Parameter {self._name} = {self._value}; dL/d[{self._name}] = {self._grad}\"\n",
        "\n",
        "    def __mul__(self, other):  # Multiplication of parameters\n",
        "      other = other if isinstance(other, Parameter) else Parameter(other, \"p\")\n",
        "      result = Parameter(\n",
        "          self._value * other._value,\n",
        "          f'{self._name} * {other._name}',\n",
        "          _children=(self, other)\n",
        "      )\n",
        "\n",
        "      def _backward():\n",
        "          self._grad += other._value * result._grad  # dL / dself\n",
        "          other._grad += self._value * result._grad  # dL / dother\n",
        "\n",
        "      result._backward = _backward\n",
        "\n",
        "      return result\n",
        "\n",
        "    def __pow__(self, other):  # Power of parameter\n",
        "        out = Parameter(self._value ** other,\n",
        "                        f\"{self._name} ** {other}\",\n",
        "                        _children=(self,))\n",
        "\n",
        "        def _backward():\n",
        "            self._grad += other * (self._value ** (other - 1)) * out._grad\n",
        "\n",
        "        out._backward = _backward\n",
        "\n",
        "        return out\n",
        "\n",
        "    def __add__(self, other):  # Addition of parameters\n",
        "        other = other if isinstance(other, Parameter) else Parameter(other, \"p\")\n",
        "        result = Parameter(\n",
        "            self._value + other._value,\n",
        "            f'[{self._name} + {other._name}]',\n",
        "            _children=(self, other)\n",
        "        )\n",
        "\n",
        "        def _backward():\n",
        "            self._grad += 1.0 * result._grad  # dL / dself\n",
        "            other._grad += 1.0 * result._grad  # dL / dother\n",
        "\n",
        "        result._backward = _backward\n",
        "\n",
        "        return result\n",
        "\n",
        "\n",
        "    def sigmoid(self):  # Sigmoid activation function\n",
        "        val = 1.0 / (1.0 + math.exp(-self._value))\n",
        "\n",
        "        result = Parameter(\n",
        "            val,\n",
        "            f\"σ({self._name})\"\n",
        "        )\n",
        "\n",
        "        def _backward():\n",
        "            self._grad += result._grad * val * (1 - val)\n",
        "\n",
        "        result._backward = _backward\n",
        "\n",
        "        return result\n",
        "\n",
        "    def __neg__(self):  # Negation\n",
        "        return self * (-1)\n",
        "\n",
        "    def __sub__(self, other):  # Subtraction\n",
        "        return self + (-other)\n",
        "\n",
        "    def backward(self, grad=1.0):\n",
        "        self._grad = grad\n",
        "        topo_sort = []\n",
        "        visited_nodes = set()\n",
        "\n",
        "        def sort_topo(node):\n",
        "            if node not in visited_nodes:\n",
        "                visited_nodes.add(node)\n",
        "                for child in node._prev:\n",
        "                    sort_topo(child)\n",
        "                topo_sort.append(node)\n",
        "        sort_topo(self)\n",
        "\n",
        "        for node in reversed(topo_sort):\n",
        "            node._backward()\n",
        "\n",
        "    def softplus(self):  # Softplus activation function\n",
        "        val = np.log(1 + np.exp(self._value))\n",
        "        result = Parameter(\n",
        "            val,\n",
        "            f\"softplus({self._name})\",\n",
        "            _children=(self,)\n",
        "        )\n",
        "\n",
        "        def _backward():\n",
        "            self._grad += result._grad * (1.0 / (1.0 + np.exp(-self._value)))\n",
        "\n",
        "        result._backward = _backward\n",
        "\n",
        "        return result\n",
        "\n",
        "    def ReLU(self):  # ReLU activation function\n",
        "        val = np.maximum(0, self._value)\n",
        "        result = Parameter(\n",
        "            val,\n",
        "            f\"ReLU({self._name})\", _children=(self,)\n",
        "        )\n",
        "\n",
        "        def _backward():\n",
        "            self._grad += result._grad * np.where(self._value > 0, 1, 0)\n",
        "\n",
        "        result._backward = _backward\n",
        "\n",
        "        return result\n",
        "\n",
        "def gd(learning_rate: float, *parameters: Parameter) -> None:\n",
        "    for parameter in parameters:\n",
        "        parameter._value -= learning_rate * parameter._grad\n",
        "        parameter._grad = 0"
      ],
      "metadata": {
        "id": "sIn6rPsvLZNc"
      },
      "execution_count": 20,
      "outputs": []
    },
    {
      "cell_type": "markdown",
      "source": [
        "# Backward method test"
      ],
      "metadata": {
        "id": "QC1IW48pIW8E"
      }
    },
    {
      "cell_type": "code",
      "source": [
        "a = Parameter(3.0, 'a')\n",
        "b = Parameter(2.0, 'b')\n",
        "c = Parameter(5.0, 'c')\n",
        "m = Parameter(5.0, 'd')\n",
        "u = a * b\n",
        "v = u + c\n",
        "L = v * m\n",
        "L.backward()\n",
        "print(L)\n",
        "print(v)\n",
        "print(u)\n",
        "print(m)\n",
        "print(c)\n",
        "print(b)\n",
        "print(a)"
      ],
      "metadata": {
        "colab": {
          "base_uri": "https://localhost:8080/"
        },
        "id": "k7ePsa3NIZZ8",
        "outputId": "07ce59f6-2291-46d1-b28d-44ad3f4dfea6"
      },
      "execution_count": 21,
      "outputs": [
        {
          "output_type": "stream",
          "name": "stdout",
          "text": [
            "Parameter [a * b + c] * d = 55.0; dL/d[[a * b + c] * d] = 1.0\n",
            "Parameter [a * b + c] = 11.0; dL/d[[a * b + c]] = 5.0\n",
            "Parameter a * b = 6.0; dL/d[a * b] = 5.0\n",
            "Parameter d = 5.0; dL/d[d] = 11.0\n",
            "Parameter c = 5.0; dL/d[c] = 5.0\n",
            "Parameter b = 2.0; dL/d[b] = 15.0\n",
            "Parameter a = 3.0; dL/d[a] = 10.0\n"
          ]
        }
      ]
    },
    {
      "cell_type": "code",
      "source": [
        "x1 = Parameter(3.0, 'x1')\n",
        "x2 = Parameter(4.0, 'x2')\n",
        "\n",
        "w1 = Parameter(1.0, 'w1')\n",
        "w2 = Parameter(2.0, 'w2')\n",
        "\n",
        "x1w1 = x1 * w1\n",
        "x2w2 = x2 * w2\n",
        "xw = x1w1 + x2w2\n",
        "out = xw.ReLU()\n",
        "out.backward()\n",
        "print(out._grad)\n",
        "print(xw._grad)\n",
        "print(x2w2._grad)\n",
        "print(x1w1._grad)\n",
        "print(x1._grad)\n",
        "print(w1._grad)\n",
        "print(x2._grad)\n",
        "print(w2._grad)"
      ],
      "metadata": {
        "colab": {
          "base_uri": "https://localhost:8080/"
        },
        "id": "IlUWKbWUIc8L",
        "outputId": "5a918a0a-a586-440b-ee1b-394716965b9b"
      },
      "execution_count": 22,
      "outputs": [
        {
          "output_type": "stream",
          "name": "stdout",
          "text": [
            "1.0\n",
            "1.0\n",
            "1.0\n",
            "1.0\n",
            "1.0\n",
            "3.0\n",
            "2.0\n",
            "4.0\n"
          ]
        }
      ]
    },
    {
      "cell_type": "code",
      "source": [
        "x1 = Parameter(3.0, 'x1')\n",
        "x2 = Parameter(4.0, 'x2')\n",
        "\n",
        "w1 = Parameter(1.0, 'w1')\n",
        "w2 = Parameter(2.0, 'w2')\n",
        "\n",
        "x1w1 = x1 * w1\n",
        "x2w2 = x2 * w2\n",
        "xw = x1w1 + x2w2\n",
        "out = xw.softplus()\n",
        "out.backward()\n",
        "print(out._grad)\n",
        "print(xw._grad)\n",
        "print(x2w2._grad)\n",
        "print(x1w1._grad)\n",
        "print(x1._grad)\n",
        "print(w1._grad)\n",
        "print(x2._grad)\n",
        "print(w2._grad)"
      ],
      "metadata": {
        "colab": {
          "base_uri": "https://localhost:8080/"
        },
        "id": "aZj-J7e5RwrT",
        "outputId": "f94c68da-1c08-43f8-f56d-abaca888ddff"
      },
      "execution_count": 23,
      "outputs": [
        {
          "output_type": "stream",
          "name": "stdout",
          "text": [
            "1.0\n",
            "0.999983298578152\n",
            "0.999983298578152\n",
            "0.999983298578152\n",
            "0.999983298578152\n",
            "2.9999498957344564\n",
            "1.999966597156304\n",
            "3.999933194312608\n"
          ]
        }
      ]
    },
    {
      "cell_type": "markdown",
      "source": [
        "# Gradient descent test"
      ],
      "metadata": {
        "id": "hTfPCBkXIgpb"
      }
    },
    {
      "cell_type": "code",
      "source": [
        "W = Parameter(0.2, 'W')\n",
        "b = Parameter(0.5, 'b')\n",
        "x = Parameter(1, 'x')\n",
        "learning_rate = 0.01\n",
        "n_epochs = 100\n",
        "target = Parameter(0.75, 't')\n",
        "for n in range(n_epochs):\n",
        "    y = (W * x + b).ReLU()\n",
        "    loss = (y - target) ** 2\n",
        "    loss.backward()\n",
        "    gd(learning_rate, W, b)\n",
        "    print(f\"loss after {n} epochs :{loss}\")"
      ],
      "metadata": {
        "colab": {
          "base_uri": "https://localhost:8080/"
        },
        "id": "cI0RYLVyIg6c",
        "outputId": "d1b2b57a-a914-4d8e-96ce-ca6ba5a9cb20"
      },
      "execution_count": 24,
      "outputs": [
        {
          "output_type": "stream",
          "name": "stdout",
          "text": [
            "loss after 0 epochs :Parameter [ReLU([W * x + b]) + t * p] ** 2 = 0.0025000000000000044; dL/d[[ReLU([W * x + b]) + t * p] ** 2] = 1.0\n",
            "loss after 1 epochs :Parameter [ReLU([W * x + b]) + t * p] ** 2 = 0.002304000000000004; dL/d[[ReLU([W * x + b]) + t * p] ** 2] = 1.0\n",
            "loss after 2 epochs :Parameter [ReLU([W * x + b]) + t * p] ** 2 = 0.002123366400000001; dL/d[[ReLU([W * x + b]) + t * p] ** 2] = 1.0\n",
            "loss after 3 epochs :Parameter [ReLU([W * x + b]) + t * p] ** 2 = 0.001956894474240007; dL/d[[ReLU([W * x + b]) + t * p] ** 2] = 1.0\n",
            "loss after 4 epochs :Parameter [ReLU([W * x + b]) + t * p] ** 2 = 0.001803473947459591; dL/d[[ReLU([W * x + b]) + t * p] ** 2] = 1.0\n",
            "loss after 5 epochs :Parameter [ReLU([W * x + b]) + t * p] ** 2 = 0.001662081589978756; dL/d[[ReLU([W * x + b]) + t * p] ** 2] = 1.0\n",
            "loss after 6 epochs :Parameter [ReLU([W * x + b]) + t * p] ** 2 = 0.0015317743933244195; dL/d[[ReLU([W * x + b]) + t * p] ** 2] = 1.0\n",
            "loss after 7 epochs :Parameter [ReLU([W * x + b]) + t * p] ** 2 = 0.001411683280887777; dL/d[[ReLU([W * x + b]) + t * p] ** 2] = 1.0\n",
            "loss after 8 epochs :Parameter [ReLU([W * x + b]) + t * p] ** 2 = 0.0013010073116661721; dL/d[[ReLU([W * x + b]) + t * p] ** 2] = 1.0\n",
            "loss after 9 epochs :Parameter [ReLU([W * x + b]) + t * p] ** 2 = 0.0011990083384315455; dL/d[[ReLU([W * x + b]) + t * p] ** 2] = 1.0\n",
            "loss after 10 epochs :Parameter [ReLU([W * x + b]) + t * p] ** 2 = 0.001105006084698513; dL/d[[ReLU([W * x + b]) + t * p] ** 2] = 1.0\n",
            "loss after 11 epochs :Parameter [ReLU([W * x + b]) + t * p] ** 2 = 0.0010183736076581512; dL/d[[ReLU([W * x + b]) + t * p] ** 2] = 1.0\n",
            "loss after 12 epochs :Parameter [ReLU([W * x + b]) + t * p] ** 2 = 0.0009385331168177511; dL/d[[ReLU([W * x + b]) + t * p] ** 2] = 1.0\n",
            "loss after 13 epochs :Parameter [ReLU([W * x + b]) + t * p] ** 2 = 0.000864952120459242; dL/d[[ReLU([W * x + b]) + t * p] ** 2] = 1.0\n",
            "loss after 14 epochs :Parameter [ReLU([W * x + b]) + t * p] ** 2 = 0.0007971398742152434; dL/d[[ReLU([W * x + b]) + t * p] ** 2] = 1.0\n",
            "loss after 15 epochs :Parameter [ReLU([W * x + b]) + t * p] ** 2 = 0.0007346441080767698; dL/d[[ReLU([W * x + b]) + t * p] ** 2] = 1.0\n",
            "loss after 16 epochs :Parameter [ReLU([W * x + b]) + t * p] ** 2 = 0.0006770480100035504; dL/d[[ReLU([W * x + b]) + t * p] ** 2] = 1.0\n",
            "loss after 17 epochs :Parameter [ReLU([W * x + b]) + t * p] ** 2 = 0.0006239674460192709; dL/d[[ReLU([W * x + b]) + t * p] ** 2] = 1.0\n",
            "loss after 18 epochs :Parameter [ReLU([W * x + b]) + t * p] ** 2 = 0.0005750483982513607; dL/d[[ReLU([W * x + b]) + t * p] ** 2] = 1.0\n",
            "loss after 19 epochs :Parameter [ReLU([W * x + b]) + t * p] ** 2 = 0.0005299646038284549; dL/d[[ReLU([W * x + b]) + t * p] ** 2] = 1.0\n",
            "loss after 20 epochs :Parameter [ReLU([W * x + b]) + t * p] ** 2 = 0.0004884153788883039; dL/d[[ReLU([W * x + b]) + t * p] ** 2] = 1.0\n",
            "loss after 21 epochs :Parameter [ReLU([W * x + b]) + t * p] ** 2 = 0.00045012361318346394; dL/d[[ReLU([W * x + b]) + t * p] ** 2] = 1.0\n",
            "loss after 22 epochs :Parameter [ReLU([W * x + b]) + t * p] ** 2 = 0.0004148339219098807; dL/d[[ReLU([W * x + b]) + t * p] ** 2] = 1.0\n",
            "loss after 23 epochs :Parameter [ReLU([W * x + b]) + t * p] ** 2 = 0.0003823109424321426; dL/d[[ReLU([W * x + b]) + t * p] ** 2] = 1.0\n",
            "loss after 24 epochs :Parameter [ReLU([W * x + b]) + t * p] ** 2 = 0.0003523377645454663; dL/d[[ReLU([W * x + b]) + t * p] ** 2] = 1.0\n",
            "loss after 25 epochs :Parameter [ReLU([W * x + b]) + t * p] ** 2 = 0.00032471448380509997; dL/d[[ReLU([W * x + b]) + t * p] ** 2] = 1.0\n",
            "loss after 26 epochs :Parameter [ReLU([W * x + b]) + t * p] ** 2 = 0.00029925686827478136; dL/d[[ReLU([W * x + b]) + t * p] ** 2] = 1.0\n",
            "loss after 27 epochs :Parameter [ReLU([W * x + b]) + t * p] ** 2 = 0.0002757951298020376; dL/d[[ReLU([W * x + b]) + t * p] ** 2] = 1.0\n",
            "loss after 28 epochs :Parameter [ReLU([W * x + b]) + t * p] ** 2 = 0.00025417279162555633; dL/d[[ReLU([W * x + b]) + t * p] ** 2] = 1.0\n",
            "loss after 29 epochs :Parameter [ReLU([W * x + b]) + t * p] ** 2 = 0.00023424564476211501; dL/d[[ReLU([W * x + b]) + t * p] ** 2] = 1.0\n",
            "loss after 30 epochs :Parameter [ReLU([W * x + b]) + t * p] ** 2 = 0.0002158807862127656; dL/d[[ReLU([W * x + b]) + t * p] ** 2] = 1.0\n",
            "loss after 31 epochs :Parameter [ReLU([W * x + b]) + t * p] ** 2 = 0.00019895573257368526; dL/d[[ReLU([W * x + b]) + t * p] ** 2] = 1.0\n",
            "loss after 32 epochs :Parameter [ReLU([W * x + b]) + t * p] ** 2 = 0.000183357603139907; dL/d[[ReLU([W * x + b]) + t * p] ** 2] = 1.0\n",
            "loss after 33 epochs :Parameter [ReLU([W * x + b]) + t * p] ** 2 = 0.00016898236705373913; dL/d[[ReLU([W * x + b]) + t * p] ** 2] = 1.0\n",
            "loss after 34 epochs :Parameter [ReLU([W * x + b]) + t * p] ** 2 = 0.00015573414947672653; dL/d[[ReLU([W * x + b]) + t * p] ** 2] = 1.0\n",
            "loss after 35 epochs :Parameter [ReLU([W * x + b]) + t * p] ** 2 = 0.00014352459215775107; dL/d[[ReLU([W * x + b]) + t * p] ** 2] = 1.0\n",
            "loss after 36 epochs :Parameter [ReLU([W * x + b]) + t * p] ** 2 = 0.00013227226413258184; dL/d[[ReLU([W * x + b]) + t * p] ** 2] = 1.0\n",
            "loss after 37 epochs :Parameter [ReLU([W * x + b]) + t * p] ** 2 = 0.0001219021186245892; dL/d[[ReLU([W * x + b]) + t * p] ** 2] = 1.0\n",
            "loss after 38 epochs :Parameter [ReLU([W * x + b]) + t * p] ** 2 = 0.0001123449925244198; dL/d[[ReLU([W * x + b]) + t * p] ** 2] = 1.0\n",
            "loss after 39 epochs :Parameter [ReLU([W * x + b]) + t * p] ** 2 = 0.00010353714511050575; dL/d[[ReLU([W * x + b]) + t * p] ** 2] = 1.0\n",
            "loss after 40 epochs :Parameter [ReLU([W * x + b]) + t * p] ** 2 = 9.541983293384348e-05; dL/d[[ReLU([W * x + b]) + t * p] ** 2] = 1.0\n",
            "loss after 41 epochs :Parameter [ReLU([W * x + b]) + t * p] ** 2 = 8.793891803182898e-05; dL/d[[ReLU([W * x + b]) + t * p] ** 2] = 1.0\n",
            "loss after 42 epochs :Parameter [ReLU([W * x + b]) + t * p] ** 2 = 8.10445068581339e-05; dL/d[[ReLU([W * x + b]) + t * p] ** 2] = 1.0\n",
            "loss after 43 epochs :Parameter [ReLU([W * x + b]) + t * p] ** 2 = 7.469061752045605e-05; dL/d[[ReLU([W * x + b]) + t * p] ** 2] = 1.0\n",
            "loss after 44 epochs :Parameter [ReLU([W * x + b]) + t * p] ** 2 = 6.883487310685098e-05; dL/d[[ReLU([W * x + b]) + t * p] ** 2] = 1.0\n",
            "loss after 45 epochs :Parameter [ReLU([W * x + b]) + t * p] ** 2 = 6.343821905527443e-05; dL/d[[ReLU([W * x + b]) + t * p] ** 2] = 1.0\n",
            "loss after 46 epochs :Parameter [ReLU([W * x + b]) + t * p] ** 2 = 5.84646626813405e-05; dL/d[[ReLU([W * x + b]) + t * p] ** 2] = 1.0\n",
            "loss after 47 epochs :Parameter [ReLU([W * x + b]) + t * p] ** 2 = 5.3881033127122235e-05; dL/d[[ReLU([W * x + b]) + t * p] ** 2] = 1.0\n",
            "loss after 48 epochs :Parameter [ReLU([W * x + b]) + t * p] ** 2 = 4.965676012995448e-05; dL/d[[ReLU([W * x + b]) + t * p] ** 2] = 1.0\n",
            "loss after 49 epochs :Parameter [ReLU([W * x + b]) + t * p] ** 2 = 4.5763670135767125e-05; dL/d[[ReLU([W * x + b]) + t * p] ** 2] = 1.0\n",
            "loss after 50 epochs :Parameter [ReLU([W * x + b]) + t * p] ** 2 = 4.217579839712206e-05; dL/d[[ReLU([W * x + b]) + t * p] ** 2] = 1.0\n",
            "loss after 51 epochs :Parameter [ReLU([W * x + b]) + t * p] ** 2 = 3.8869215802788024e-05; dL/d[[ReLU([W * x + b]) + t * p] ** 2] = 1.0\n",
            "loss after 52 epochs :Parameter [ReLU([W * x + b]) + t * p] ** 2 = 3.582186928384971e-05; dL/d[[ReLU([W * x + b]) + t * p] ** 2] = 1.0\n",
            "loss after 53 epochs :Parameter [ReLU([W * x + b]) + t * p] ** 2 = 3.301343473199655e-05; dL/d[[ReLU([W * x + b]) + t * p] ** 2] = 1.0\n",
            "loss after 54 epochs :Parameter [ReLU([W * x + b]) + t * p] ** 2 = 3.0425181449007682e-05; dL/d[[ReLU([W * x + b]) + t * p] ** 2] = 1.0\n",
            "loss after 55 epochs :Parameter [ReLU([W * x + b]) + t * p] ** 2 = 2.803984722340576e-05; dL/d[[ReLU([W * x + b]) + t * p] ** 2] = 1.0\n",
            "loss after 56 epochs :Parameter [ReLU([W * x + b]) + t * p] ** 2 = 2.5841523201090297e-05; dL/d[[ReLU([W * x + b]) + t * p] ** 2] = 1.0\n",
            "loss after 57 epochs :Parameter [ReLU([W * x + b]) + t * p] ** 2 = 2.3815547782124905e-05; dL/d[[ReLU([W * x + b]) + t * p] ** 2] = 1.0\n",
            "loss after 58 epochs :Parameter [ReLU([W * x + b]) + t * p] ** 2 = 2.1948408836006645e-05; dL/d[[ReLU([W * x + b]) + t * p] ** 2] = 1.0\n",
            "loss after 59 epochs :Parameter [ReLU([W * x + b]) + t * p] ** 2 = 2.0227653583263805e-05; dL/d[[ReLU([W * x + b]) + t * p] ** 2] = 1.0\n",
            "loss after 60 epochs :Parameter [ReLU([W * x + b]) + t * p] ** 2 = 1.8641805542335347e-05; dL/d[[ReLU([W * x + b]) + t * p] ** 2] = 1.0\n",
            "loss after 61 epochs :Parameter [ReLU([W * x + b]) + t * p] ** 2 = 1.7180287987816955e-05; dL/d[[ReLU([W * x + b]) + t * p] ** 2] = 1.0\n",
            "loss after 62 epochs :Parameter [ReLU([W * x + b]) + t * p] ** 2 = 1.5833353409571894e-05; dL/d[[ReLU([W * x + b]) + t * p] ** 2] = 1.0\n",
            "loss after 63 epochs :Parameter [ReLU([W * x + b]) + t * p] ** 2 = 1.4592018502260847e-05; dL/d[[ReLU([W * x + b]) + t * p] ** 2] = 1.0\n",
            "loss after 64 epochs :Parameter [ReLU([W * x + b]) + t * p] ** 2 = 1.3448004251683596e-05; dL/d[[ReLU([W * x + b]) + t * p] ** 2] = 1.0\n",
            "loss after 65 epochs :Parameter [ReLU([W * x + b]) + t * p] ** 2 = 1.239368071835179e-05; dL/d[[ReLU([W * x + b]) + t * p] ** 2] = 1.0\n",
            "loss after 66 epochs :Parameter [ReLU([W * x + b]) + t * p] ** 2 = 1.142201615003373e-05; dL/d[[ReLU([W * x + b]) + t * p] ** 2] = 1.0\n",
            "loss after 67 epochs :Parameter [ReLU([W * x + b]) + t * p] ** 2 = 1.0526530083871546e-05; dL/d[[ReLU([W * x + b]) + t * p] ** 2] = 1.0\n",
            "loss after 68 epochs :Parameter [ReLU([W * x + b]) + t * p] ** 2 = 9.70125012529585e-06; dL/d[[ReLU([W * x + b]) + t * p] ** 2] = 1.0\n",
            "loss after 69 epochs :Parameter [ReLU([W * x + b]) + t * p] ** 2 = 8.94067211547239e-06; dL/d[[ReLU([W * x + b]) + t * p] ** 2] = 1.0\n",
            "loss after 70 epochs :Parameter [ReLU([W * x + b]) + t * p] ** 2 = 8.239723421619509e-06; dL/d[[ReLU([W * x + b]) + t * p] ** 2] = 1.0\n",
            "loss after 71 epochs :Parameter [ReLU([W * x + b]) + t * p] ** 2 = 7.593729105364686e-06; dL/d[[ReLU([W * x + b]) + t * p] ** 2] = 1.0\n",
            "loss after 72 epochs :Parameter [ReLU([W * x + b]) + t * p] ** 2 = 6.99838074350386e-06; dL/d[[ReLU([W * x + b]) + t * p] ** 2] = 1.0\n",
            "loss after 73 epochs :Parameter [ReLU([W * x + b]) + t * p] ** 2 = 6.449707693213337e-06; dL/d[[ReLU([W * x + b]) + t * p] ** 2] = 1.0\n",
            "loss after 74 epochs :Parameter [ReLU([W * x + b]) + t * p] ** 2 = 5.944050610065932e-06; dL/d[[ReLU([W * x + b]) + t * p] ** 2] = 1.0\n",
            "loss after 75 epochs :Parameter [ReLU([W * x + b]) + t * p] ** 2 = 5.4780370422364715e-06; dL/d[[ReLU([W * x + b]) + t * p] ** 2] = 1.0\n",
            "loss after 76 epochs :Parameter [ReLU([W * x + b]) + t * p] ** 2 = 5.048558938125412e-06; dL/d[[ReLU([W * x + b]) + t * p] ** 2] = 1.0\n",
            "loss after 77 epochs :Parameter [ReLU([W * x + b]) + t * p] ** 2 = 4.652751917376341e-06; dL/d[[ReLU([W * x + b]) + t * p] ** 2] = 1.0\n",
            "loss after 78 epochs :Parameter [ReLU([W * x + b]) + t * p] ** 2 = 4.287976167053962e-06; dL/d[[ReLU([W * x + b]) + t * p] ** 2] = 1.0\n",
            "loss after 79 epochs :Parameter [ReLU([W * x + b]) + t * p] ** 2 = 3.951798835556896e-06; dL/d[[ReLU([W * x + b]) + t * p] ** 2] = 1.0\n",
            "loss after 80 epochs :Parameter [ReLU([W * x + b]) + t * p] ** 2 = 3.641977806848829e-06; dL/d[[ReLU([W * x + b]) + t * p] ** 2] = 1.0\n",
            "loss after 81 epochs :Parameter [ReLU([W * x + b]) + t * p] ** 2 = 3.35644674679162e-06; dL/d[[ReLU([W * x + b]) + t * p] ** 2] = 1.0\n",
            "loss after 82 epochs :Parameter [ReLU([W * x + b]) + t * p] ** 2 = 3.0933013218433447e-06; dL/d[[ReLU([W * x + b]) + t * p] ** 2] = 1.0\n",
            "loss after 83 epochs :Parameter [ReLU([W * x + b]) + t * p] ** 2 = 2.8507864982105265e-06; dL/d[[ReLU([W * x + b]) + t * p] ** 2] = 1.0\n",
            "loss after 84 epochs :Parameter [ReLU([W * x + b]) + t * p] ** 2 = 2.627284836750994e-06; dL/d[[ReLU([W * x + b]) + t * p] ** 2] = 1.0\n",
            "loss after 85 epochs :Parameter [ReLU([W * x + b]) + t * p] ** 2 = 2.4213057055499648e-06; dL/d[[ReLU([W * x + b]) + t * p] ** 2] = 1.0\n",
            "loss after 86 epochs :Parameter [ReLU([W * x + b]) + t * p] ** 2 = 2.2314753382348478e-06; dL/d[[ReLU([W * x + b]) + t * p] ** 2] = 1.0\n",
            "loss after 87 epochs :Parameter [ReLU([W * x + b]) + t * p] ** 2 = 2.056527671716955e-06; dL/d[[ReLU([W * x + b]) + t * p] ** 2] = 1.0\n",
            "loss after 88 epochs :Parameter [ReLU([W * x + b]) + t * p] ** 2 = 1.895295902254395e-06; dL/d[[ReLU([W * x + b]) + t * p] ** 2] = 1.0\n",
            "loss after 89 epochs :Parameter [ReLU([W * x + b]) + t * p] ** 2 = 1.7467047035178147e-06; dL/d[[ReLU([W * x + b]) + t * p] ** 2] = 1.0\n",
            "loss after 90 epochs :Parameter [ReLU([W * x + b]) + t * p] ** 2 = 1.6097630547621984e-06; dL/d[[ReLU([W * x + b]) + t * p] ** 2] = 1.0\n",
            "loss after 91 epochs :Parameter [ReLU([W * x + b]) + t * p] ** 2 = 1.4835576312686905e-06; dL/d[[ReLU([W * x + b]) + t * p] ** 2] = 1.0\n",
            "loss after 92 epochs :Parameter [ReLU([W * x + b]) + t * p] ** 2 = 1.3672467129774121e-06; dL/d[[ReLU([W * x + b]) + t * p] ** 2] = 1.0\n",
            "loss after 93 epochs :Parameter [ReLU([W * x + b]) + t * p] ** 2 = 1.2600545706799034e-06; dL/d[[ReLU([W * x + b]) + t * p] ** 2] = 1.0\n",
            "loss after 94 epochs :Parameter [ReLU([W * x + b]) + t * p] ** 2 = 1.161266292338465e-06; dL/d[[ReLU([W * x + b]) + t * p] ** 2] = 1.0\n",
            "loss after 95 epochs :Parameter [ReLU([W * x + b]) + t * p] ** 2 = 1.0702230150190924e-06; dL/d[[ReLU([W * x + b]) + t * p] ** 2] = 1.0\n",
            "loss after 96 epochs :Parameter [ReLU([W * x + b]) + t * p] ** 2 = 9.863175306416309e-07; dL/d[[ReLU([W * x + b]) + t * p] ** 2] = 1.0\n",
            "loss after 97 epochs :Parameter [ReLU([W * x + b]) + t * p] ** 2 = 9.089902362393947e-07; dL/d[[ReLU([W * x + b]) + t * p] ** 2] = 1.0\n",
            "loss after 98 epochs :Parameter [ReLU([W * x + b]) + t * p] ** 2 = 8.37725401718145e-07; dL/d[[ReLU([W * x + b]) + t * p] ** 2] = 1.0\n",
            "loss after 99 epochs :Parameter [ReLU([W * x + b]) + t * p] ** 2 = 7.720477302236141e-07; dL/d[[ReLU([W * x + b]) + t * p] ** 2] = 1.0\n"
          ]
        }
      ]
    },
    {
      "cell_type": "code",
      "source": [
        "print((W * x + b).ReLU())"
      ],
      "metadata": {
        "colab": {
          "base_uri": "https://localhost:8080/"
        },
        "id": "QjUOa_gGImL7",
        "outputId": "9e6ff583-6ded-4c47-af9b-68e213a91258"
      },
      "execution_count": 26,
      "outputs": [
        {
          "output_type": "stream",
          "name": "stdout",
          "text": [
            "Parameter ReLU([W * x + b]) = 0.7491564840320575; dL/d[ReLU([W * x + b])] = 0.0\n"
          ]
        }
      ]
    }
  ]
}