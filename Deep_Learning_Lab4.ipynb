{
  "nbformat": 4,
  "nbformat_minor": 0,
  "metadata": {
    "colab": {
      "provenance": [],
      "authorship_tag": "ABX9TyN2Ydj/8FPc6j4Tj8EV/2Fh",
      "include_colab_link": true
    },
    "kernelspec": {
      "name": "python3",
      "display_name": "Python 3"
    },
    "language_info": {
      "name": "python"
    }
  },
  "cells": [
    {
      "cell_type": "markdown",
      "metadata": {
        "id": "view-in-github",
        "colab_type": "text"
      },
      "source": [
        "<a href=\"https://colab.research.google.com/github/marmurr/Deep-Learning/blob/main/Deep_Learning_Lab4.ipynb\" target=\"_parent\"><img src=\"https://colab.research.google.com/assets/colab-badge.svg\" alt=\"Open In Colab\"/></a>"
      ]
    },
    {
      "cell_type": "markdown",
      "source": [
        "https://pytorch.org/tutorials/\n",
        "\n",
        "Написати свій MLP class:\n",
        "можна конфігурувати\n",
        "\n",
        "кількість hidden layers\n",
        "\n",
        "розміри hidden layers\n",
        "\n",
        "Використовувані активації для кожного layer\n",
        "\n",
        "клас має бути написаний саме в PyTorch стилі\n",
        "\n",
        "Взяти модельний/сподобавшийся датасет (але тільки класифікація) (можна sklearn) та побудувати\n",
        "\n",
        "Dataset\n",
        "\n",
        "Dataloader\n",
        "\n",
        "Training loop\n",
        "\n"
      ],
      "metadata": {
        "id": "xpDGzPzO9BY0"
      }
    },
    {
      "cell_type": "markdown",
      "source": [
        "1. Import"
      ],
      "metadata": {
        "id": "6-qvexuW9LgL"
      }
    },
    {
      "cell_type": "code",
      "execution_count": 1,
      "metadata": {
        "id": "JRe8RWb187v-"
      },
      "outputs": [],
      "source": [
        "import torch\n",
        "import matplotlib.pyplot as plt"
      ]
    },
    {
      "cell_type": "markdown",
      "source": [
        "2. MLP"
      ],
      "metadata": {
        "id": "ZjdSiDKW9NPz"
      }
    },
    {
      "cell_type": "code",
      "source": [
        "import torch.nn as nn"
      ],
      "metadata": {
        "id": "NvNVt_bS9OsT"
      },
      "execution_count": 2,
      "outputs": []
    },
    {
      "cell_type": "code",
      "source": [
        "class CustomLayer(nn.Module):\n",
        "    def __init__(self, inputs, outputs, activation=nn.ReLU, batchnorm=None, p=None):\n",
        "        super(CustomLayer, self).__init__()\n",
        "        self.linear = nn.Linear(inputs, outputs)\n",
        "        self.activation = activation if activation else nn.Identity()\n",
        "        self.batchnorm = nn.BatchNorm1d(outputs) if batchnorm else None\n",
        "        self.dropout = nn.Dropout(p) if p else None\n",
        "\n",
        "    def forward(self, x):\n",
        "        x = self.linear(x)\n",
        "        x = self.activation(x)\n",
        "        if self.batchnorm is not None:\n",
        "            x = self.batchnorm(x)\n",
        "        if self.dropout is not None:\n",
        "            x = self.dropout(x)\n",
        "        return x\n",
        "\n",
        "class CustomMLP(nn.Module):\n",
        "    def __init__(self, layer_sizes, activation_funcs=None, batchnorm_list=None, dropout_list=None):\n",
        "        super(CustomMLP, self).__init__()\n",
        "        self.layers = nn.ModuleList()\n",
        "        for i in range(len(layer_sizes) - 1):\n",
        "            activation = activation_funcs[i] if activation_funcs and i < len(activation_funcs) else nn.Identity()\n",
        "            batchnorm = batchnorm_list[i] if batchnorm_list and i < len(batchnorm_list) else None\n",
        "            p = dropout_list[i] if dropout_list and i < len(dropout_list) else None\n",
        "            layer = CustomLayer(layer_sizes[i], layer_sizes[i+1], activation, p=p, batchnorm=batchnorm)\n",
        "            self.layers.append(layer)\n",
        "\n",
        "    def forward(self, x):\n",
        "        for layer in self.layers:\n",
        "            x = layer(x)\n",
        "        return x\n"
      ],
      "metadata": {
        "id": "KjmcaqJ29Q_z"
      },
      "execution_count": 3,
      "outputs": []
    },
    {
      "cell_type": "markdown",
      "source": [
        "3. Test\n"
      ],
      "metadata": {
        "id": "ItTTL17YAW77"
      }
    },
    {
      "cell_type": "code",
      "source": [
        "from torchvision import datasets, transforms\n",
        "from torch.utils.data import DataLoader\n",
        "import torch.optim as optim"
      ],
      "metadata": {
        "id": "yIP5jBLPAWkj"
      },
      "execution_count": 4,
      "outputs": []
    },
    {
      "cell_type": "code",
      "source": [
        "#Data loading and normalizing\n",
        "transform = transforms.Compose([\n",
        "    transforms.ToTensor(),\n",
        "    transforms.Normalize((0.5,), (0.5,))\n",
        "])\n",
        "\n",
        "train_dataset = datasets.FashionMNIST(root='./data', train=True, download=True, transform=transform)\n",
        "train_loader = DataLoader(train_dataset, batch_size=128, shuffle=True)"
      ],
      "metadata": {
        "colab": {
          "base_uri": "https://localhost:8080/"
        },
        "id": "EIEGlwIJAbBC",
        "outputId": "54b00f3d-8eb0-4e57-f14e-198b198c609b"
      },
      "execution_count": 5,
      "outputs": [
        {
          "output_type": "stream",
          "name": "stdout",
          "text": [
            "Downloading http://fashion-mnist.s3-website.eu-central-1.amazonaws.com/train-images-idx3-ubyte.gz\n",
            "Downloading http://fashion-mnist.s3-website.eu-central-1.amazonaws.com/train-images-idx3-ubyte.gz to ./data/FashionMNIST/raw/train-images-idx3-ubyte.gz\n"
          ]
        },
        {
          "output_type": "stream",
          "name": "stderr",
          "text": [
            "100%|██████████| 26421880/26421880 [00:01<00:00, 14405425.19it/s]\n"
          ]
        },
        {
          "output_type": "stream",
          "name": "stdout",
          "text": [
            "Extracting ./data/FashionMNIST/raw/train-images-idx3-ubyte.gz to ./data/FashionMNIST/raw\n",
            "\n",
            "Downloading http://fashion-mnist.s3-website.eu-central-1.amazonaws.com/train-labels-idx1-ubyte.gz\n",
            "Downloading http://fashion-mnist.s3-website.eu-central-1.amazonaws.com/train-labels-idx1-ubyte.gz to ./data/FashionMNIST/raw/train-labels-idx1-ubyte.gz\n"
          ]
        },
        {
          "output_type": "stream",
          "name": "stderr",
          "text": [
            "100%|██████████| 29515/29515 [00:00<00:00, 272907.38it/s]\n"
          ]
        },
        {
          "output_type": "stream",
          "name": "stdout",
          "text": [
            "Extracting ./data/FashionMNIST/raw/train-labels-idx1-ubyte.gz to ./data/FashionMNIST/raw\n",
            "\n",
            "Downloading http://fashion-mnist.s3-website.eu-central-1.amazonaws.com/t10k-images-idx3-ubyte.gz\n",
            "Downloading http://fashion-mnist.s3-website.eu-central-1.amazonaws.com/t10k-images-idx3-ubyte.gz to ./data/FashionMNIST/raw/t10k-images-idx3-ubyte.gz\n"
          ]
        },
        {
          "output_type": "stream",
          "name": "stderr",
          "text": [
            "100%|██████████| 4422102/4422102 [00:00<00:00, 4881801.96it/s]\n"
          ]
        },
        {
          "output_type": "stream",
          "name": "stdout",
          "text": [
            "Extracting ./data/FashionMNIST/raw/t10k-images-idx3-ubyte.gz to ./data/FashionMNIST/raw\n",
            "\n",
            "Downloading http://fashion-mnist.s3-website.eu-central-1.amazonaws.com/t10k-labels-idx1-ubyte.gz\n",
            "Downloading http://fashion-mnist.s3-website.eu-central-1.amazonaws.com/t10k-labels-idx1-ubyte.gz to ./data/FashionMNIST/raw/t10k-labels-idx1-ubyte.gz\n"
          ]
        },
        {
          "output_type": "stream",
          "name": "stderr",
          "text": [
            "100%|██████████| 5148/5148 [00:00<00:00, 2844082.85it/s]"
          ]
        },
        {
          "output_type": "stream",
          "name": "stdout",
          "text": [
            "Extracting ./data/FashionMNIST/raw/t10k-labels-idx1-ubyte.gz to ./data/FashionMNIST/raw\n",
            "\n"
          ]
        },
        {
          "output_type": "stream",
          "name": "stderr",
          "text": [
            "\n"
          ]
        }
      ]
    },
    {
      "cell_type": "markdown",
      "source": [
        "Model initializing\n",
        "\n",
        "Our dataset has 10 classes and 28x28 grayscale images"
      ],
      "metadata": {
        "id": "J_pI5BvQA1dc"
      }
    },
    {
      "cell_type": "code",
      "source": [
        "import torch.nn.functional as F"
      ],
      "metadata": {
        "id": "L6dI7AmtC8bI"
      },
      "execution_count": 6,
      "outputs": []
    },
    {
      "cell_type": "code",
      "source": [
        "model = CustomMLP(layer_sizes=[784, 256, 128, 10], activation_funcs=[F.relu, F.relu])\n",
        "criterion = nn.CrossEntropyLoss()\n",
        "optimizer = optim.Adam(model.parameters(), lr=0.005)"
      ],
      "metadata": {
        "id": "n3LEdjKyAw0C"
      },
      "execution_count": 7,
      "outputs": []
    },
    {
      "cell_type": "markdown",
      "source": [
        "Model training"
      ],
      "metadata": {
        "id": "nyWSs-UXBa_C"
      }
    },
    {
      "cell_type": "code",
      "source": [
        "epochs = 10\n",
        "for epoch in range(epochs):\n",
        "    running_loss = 0\n",
        "    for images, labels in train_loader:\n",
        "        images = images.view(images.shape[0], -1)\n",
        "        optimizer.zero_grad()\n",
        "        output = model(images)\n",
        "        loss = criterion(output, labels)\n",
        "        loss.backward()\n",
        "        optimizer.step()\n",
        "        running_loss += loss.item()\n",
        "\n",
        "    print(f\"Epoch {epoch+1} - Training loss: {running_loss/len(train_loader)}\")"
      ],
      "metadata": {
        "colab": {
          "base_uri": "https://localhost:8080/"
        },
        "id": "UsK6iU-gBZDy",
        "outputId": "65ad3059-faa0-4bf1-aed8-c31c13875b0a"
      },
      "execution_count": 8,
      "outputs": [
        {
          "output_type": "stream",
          "name": "stdout",
          "text": [
            "Epoch 1 - Training loss: 0.505927483727937\n",
            "Epoch 2 - Training loss: 0.38433797937085123\n",
            "Epoch 3 - Training loss: 0.3553953744899998\n",
            "Epoch 4 - Training loss: 0.3350270961774692\n",
            "Epoch 5 - Training loss: 0.3208127060869355\n",
            "Epoch 6 - Training loss: 0.30756989366083004\n",
            "Epoch 7 - Training loss: 0.29507604698890816\n",
            "Epoch 8 - Training loss: 0.285487912912994\n",
            "Epoch 9 - Training loss: 0.27883236469236267\n",
            "Epoch 10 - Training loss: 0.2751006612867943\n"
          ]
        }
      ]
    }
  ]
}